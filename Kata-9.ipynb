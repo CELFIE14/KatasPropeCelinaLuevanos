{
  "cells": [
    {
      "cell_type": "markdown",
      "metadata": {},
      "source": [
        "# Ejercicio: Uso de funciones en Python"
      ]
    },
    {
      "cell_type": "markdown",
      "metadata": {},
      "source": [
        "### Ejercicio 1: Trabajar con argumentos en funciones\n",
        "\n",
        "Los argumentos requeridos en las funciones se utilizan cuando las funciones necesitan que esos argumentos funcionen correctamente. En este ejercicio, construirás un informe de combustible que requiere información de varias ubicaciones de combustible en todo el cohete.\n",
        "\n"
      ]
    },
    {
      "cell_type": "markdown",
      "metadata": {},
      "source": [
        "> **TIP**\n",
        "> Dedica unos minutos para tratar de encontrar una solución. Luego desplázate hacia abajo hasta la parte inferior para ver si has logrado compilar el programa de acuerdo con las especificaciones\n",
        "\n",
        "Comienza por crear una función que necesite tres lecturas de combustible y devuelva un informe:"
      ]
    },
    {
      "cell_type": "code",
      "execution_count": 21,
      "metadata": {},
      "outputs": [],
      "source": [
        "# Función para leer 3 tanques de combustible y muestre el promedio\n",
        "def reporte_comb(tanque_uno, tanque_dos, tanque_tres):\n",
        "    promedio = (tanque_uno + tanque_dos + tanque_tres)/3\n",
        "    print(f\"\"\"    Combustible de la nave\n",
        "    {'-'*50}\n",
        "    Promedio de combustible: {round(promedio, 2)}%\n",
        "    Tanque uno: {tanque_uno}%\n",
        "    Tanque dos: {tanque_dos}%\n",
        "    Tanque tres: {tanque_tres}%\n",
        "    {'-'*50}\n",
        "    \"\"\")\n"
      ]
    },
    {
      "cell_type": "markdown",
      "metadata": {},
      "source": [
        "Ahora que hemos definido la función de informes, vamos a comprobarlo. Para esta misión, los tanques no están llenos:"
      ]
    },
    {
      "cell_type": "code",
      "execution_count": 22,
      "metadata": {},
      "outputs": [
        {
          "name": "stdout",
          "output_type": "stream",
          "text": [
            "    Combustible de la nave\n",
            "    --------------------------------------------------\n",
            "    Promedio de combustible: 48.67%\n",
            "    Tanque uno: 15%\n",
            "    Tanque dos: 56%\n",
            "    Tanque tres: 75%\n",
            "    --------------------------------------------------\n",
            "    \n"
          ]
        }
      ],
      "source": [
        "\n",
        "# Llamamos a la función que genera el reporte print(funcion(tanque1, tanque2, tanque3))\n",
        "reporte_comb(15, 56, 75)"
      ]
    },
    {
      "cell_type": "markdown",
      "metadata": {},
      "source": [
        "En lugar de simplemente crear el informe, la función también está calculando el promedio. Mejora la legibilidad extrayendo el cálculo promedio de la función en una nueva función para que el promedio se pueda hacer de forma independiente:"
      ]
    },
    {
      "cell_type": "code",
      "execution_count": 27,
      "metadata": {},
      "outputs": [
        {
          "data": {
            "text/plain": [
              "56.67"
            ]
          },
          "execution_count": 27,
          "metadata": {},
          "output_type": "execute_result"
        }
      ],
      "source": [
        "# Función promedio \n",
        "def promedio_comb(values):\n",
        "    total = sum(values)\n",
        "    tanques = len(values)\n",
        "    return round(total/3, 2) \n",
        "\n",
        "promedio_comb([25, 89, 56])"
      ]
    },
    {
      "cell_type": "markdown",
      "metadata": {},
      "source": [
        "Ahora actualiza la función de informes para llamando a la nueva función del promedio:\n"
      ]
    },
    {
      "cell_type": "code",
      "execution_count": 31,
      "metadata": {},
      "outputs": [
        {
          "name": "stdout",
          "output_type": "stream",
          "text": [
            "    Combustible de la nave\n",
            "    --------------------------------------------------\n",
            "    Promedio de combustible: 57.67%\n",
            "    Tanque uno: 100%\n",
            "    Tanque dos: 25%\n",
            "    Tanque tres: 48%\n",
            "    --------------------------------------------------\n",
            "    \n"
          ]
        }
      ],
      "source": [
        "# Actualiza la función\n",
        "def reporte_comb(tanque_uno, tanque_dos, tanque_tres):\n",
        "    print(f\"\"\"    Combustible de la nave\n",
        "    {'-'*50}\n",
        "    Promedio de combustible: {promedio_comb([tanque_uno, tanque_dos, tanque_tres])}%\n",
        "    Tanque uno: {tanque_uno}%\n",
        "    Tanque dos: {tanque_dos}%\n",
        "    Tanque tres: {tanque_tres}%\n",
        "    {'-'*50}\n",
        "    \"\"\")\n",
        "\n",
        "reporte_comb(100, 25, 48)"
      ]
    },
    {
      "cell_type": "markdown",
      "metadata": {},
      "source": [
        "> Recuerda: Lo importante es intentarlo, puedes auxiliarte de internet, libros, etc. El objetivo de una kata es la comprobación de la comprensión de la lección y su aplicación inmediata a la resolución de problemas. Go for it!"
      ]
    },
    {
      "cell_type": "markdown",
      "metadata": {},
      "source": [
        "## Ejercicio 2: Trabajo con argumentos de palabra clave"
      ]
    },
    {
      "cell_type": "markdown",
      "metadata": {},
      "source": [
        "### Ejercicio : Trabajar con argumentos de palabras clave en funciones\n",
        "En este ejercicio, construirás un informe de cohete que requiere varias piezas de información, como el tiempo hasta el destino, el combustible a la izquierda y el nombre del destino. Comienza por crear una función que creará un informe preciso de la misión:"
      ]
    },
    {
      "cell_type": "code",
      "execution_count": 59,
      "metadata": {},
      "outputs": [
        {
          "name": "stdout",
          "output_type": "stream",
          "text": [
            "\n",
            "    ------------------------------\n",
            "    Informe de cohete\n",
            "    ------------------------------\n",
            "    Destino de la misión: Tierra\n",
            "    Tiempo de vuelo: 35\n",
            "    Niveles en los tanques: 180\n",
            "    \n"
          ]
        }
      ],
      "source": [
        "# Función con un informe preciso de la misión. Considera hora de prelanzamiento, tiempo de vuelo, destino, tanque externo y tanque interno\n",
        "def informe(destino, hora_prelanzamiento, tiempo_vuelo, tanque_externo, tanque_interno):\n",
        "    return f\"\"\"\n",
        "    {'-'*30}\n",
        "    Informe de cohete\n",
        "    {'-'*30}\n",
        "    Destino de la misión: {destino}\n",
        "    Tiempo de vuelo: {tiempo_vuelo + hora_prelanzamiento}\n",
        "    Niveles en los tanques: {tanque_externo + tanque_interno}\n",
        "    \"\"\"\n",
        "print(informe('Marte', 20, 15, 85, 95))"
      ]
    },
    {
      "cell_type": "markdown",
      "metadata": {},
      "source": [
        "La función es problemática porque no se puede adaptar para minutos adicionales o tanques adicionales de combustible. Hazlo más flexible permitiendo cualquier número de pasos basados en el tiempo y cualquier número de tanques. En lugar de usar `*args` y `**kwargs`, aprovecha el hecho de que puedes usar cualquier nombre que desees. Asegurate que la función sea más legible mediante el uso de nombres de variables que están asociados con las entradas, como `*minutes` y `**fuel_reservoirs`:"
      ]
    },
    {
      "cell_type": "code",
      "execution_count": 61,
      "metadata": {},
      "outputs": [
        {
          "name": "stdout",
          "output_type": "stream",
          "text": [
            "\n",
            "    ------------------------------\n",
            "    Informe de cohete\n",
            "    ------------------------------\n",
            "    Destino de la misión: Marte\n",
            "    Tiempo de vuelo: 63 minutos\n",
            "    Niveles en los tanques: 285 galones\n",
            "    \n"
          ]
        }
      ],
      "source": [
        "# Escribe tu nueva función de reporte considerando lo anterior\n",
        "def informe(destino, *minutos, **reserva_comb):\n",
        "    return f\"\"\"\n",
        "    {'-'*30}\n",
        "    Informe de cohete\n",
        "    {'-'*30}\n",
        "    Destino de la misión: {destino}\n",
        "    Tiempo de vuelo: {sum(minutos)} minutos\n",
        "    Niveles en los tanques: {sum(reserva_comb.values())} galones\n",
        "    \"\"\"\n",
        "print(informe(\"Marte\", 10, 53, principal = 85, reserva= 200))"
      ]
    },
    {
      "cell_type": "markdown",
      "metadata": {},
      "source": [
        "Debido a que el combustible que queda en los tanques es específico de cada tanque, actualiza la función para usar el nombre de cada tanque en el informe:"
      ]
    },
    {
      "cell_type": "code",
      "execution_count": 66,
      "metadata": {},
      "outputs": [
        {
          "name": "stdout",
          "output_type": "stream",
          "text": [
            "\n",
            "    ------------------------------\n",
            "    Informe de cohete\n",
            "    ------------------------------\n",
            "    Destino de la misión: Marte\n",
            "    Tiempo de vuelo: 63 minutos\n",
            "    Niveles en los tanques: 285 galones\n",
            "    principal tanque: 85 galones reserva tanque: 200 galones \n"
          ]
        }
      ],
      "source": [
        "# Escribe tu nueva función\n",
        "def informe(destino, *minutos, **reserva_comb):\n",
        "    informe_cohete = f\"\"\"\n",
        "    {'-'*30}\n",
        "    Informe de cohete\n",
        "    {'-'*30}\n",
        "    Destino de la misión: {destino}\n",
        "    Tiempo de vuelo: {sum(minutos)} minutos\n",
        "    Niveles en los tanques: {sum(reserva_comb.values())} galones\n",
        "    \"\"\"\n",
        "    for tanque, galones in reserva_comb.items():\n",
        "        informe_cohete+= f\"{tanque} tanque: {galones} galones \"\n",
        "    return informe_cohete\n",
        "print(informe(\"Marte\", 10, 53, principal = 85, reserva= 200))\n",
        "        "
      ]
    }
  ],
  "metadata": {
    "interpreter": {
      "hash": "205095b8b86ea82a021a8fc2ffba2b3bc9f8d0be25999901963b225939f75778"
    },
    "kernelspec": {
      "display_name": "Python 3.8.10 64-bit ('tmp': conda)",
      "name": "python3"
    },
    "language_info": {
      "codemirror_mode": {
        "name": "ipython",
        "version": 3
      },
      "file_extension": ".py",
      "mimetype": "text/x-python",
      "name": "python",
      "nbconvert_exporter": "python",
      "pygments_lexer": "ipython3",
      "version": "3.10.2"
    },
    "nteract": {
      "version": "nteract-front-end@1.0.0"
    },
    "orig_nbformat": 4
  },
  "nbformat": 4,
  "nbformat_minor": 2
}
