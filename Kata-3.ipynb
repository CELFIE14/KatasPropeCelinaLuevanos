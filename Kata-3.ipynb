{
 "cells": [
  {
   "cell_type": "markdown",
   "metadata": {},
   "source": [
    "# Alerta de asteroide\n",
    "Advertencia"
   ]
  },
  {
   "cell_type": "code",
   "execution_count": 8,
   "metadata": {},
   "outputs": [
    {
     "name": "stdout",
     "output_type": "stream",
     "text": [
      "Todos nos vamos a morir corran\n"
     ]
    }
   ],
   "source": [
    "asteroide = 49\n",
    "\n",
    "if asteroide > 25:\n",
    "    print(\"T¡ALERTA! Un asteroide se aproxima a la tierra\")\n",
    "else:\n",
    "    print(\"Todo despejado en el cielo, puedes seguir con tu día\")\n"
   ]
  },
  {
   "cell_type": "code",
   "execution_count": 10,
   "metadata": {},
   "outputs": [
    {
     "name": "stdout",
     "output_type": "stream",
     "text": [
      "Se verá un resplandor en el cielo\n"
     ]
    }
   ],
   "source": [
    "asteroide = 20\n",
    "if asteroide >= 20:\n",
    "    print(\"Se verá un resplandor en el cielo\")\n",
    "elif asteroide == 20:\n",
    "    print(\"Se verá un resplandor en el cielo\")\n",
    "else:\n",
    "    print(\"No hay asteroides visibles para la tierra\")"
   ]
  },
  {
   "cell_type": "code",
   "execution_count": 17,
   "metadata": {},
   "outputs": [
    {
     "name": "stdout",
     "output_type": "stream",
     "text": [
      "Se verá un resplandor en el cielo\n"
     ]
    }
   ],
   "source": [
    "tamaño_asteroide = 26\n",
    "velocidad_asteroide = 30\n",
    "\n",
    "if velocidad_asteroide > 25 and tamaño_asteroide > 25:\n",
    "    print(\"¡ALERTA! Etsamos en preligro un asteroide ingresará a la tierra\")\n",
    "elif velocidad_asteroide >=20:\n",
    "    print(\"Se verá un resplandor en el cielo\")\n",
    "elif tamaño_asteroide < 25:\n",
    "    print(\"Estamos a salvo\")\n",
    "else:\n",
    "    print(\"Todo esta muy calmado en el cielo\")\n",
    "\n"
   ]
  }
 ],
 "metadata": {
  "interpreter": {
   "hash": "669622bc97b6227d4a01896c03d2e060b3a62e75d880f45b33aa1dbdb1fc265e"
  },
  "kernelspec": {
   "display_name": "Python 3.10.2 64-bit",
   "language": "python",
   "name": "python3"
  },
  "language_info": {
   "codemirror_mode": {
    "name": "ipython",
    "version": 3
   },
   "file_extension": ".py",
   "mimetype": "text/x-python",
   "name": "python",
   "nbconvert_exporter": "python",
   "pygments_lexer": "ipython3",
   "version": "3.10.2"
  },
  "orig_nbformat": 4
 },
 "nbformat": 4,
 "nbformat_minor": 2
}
